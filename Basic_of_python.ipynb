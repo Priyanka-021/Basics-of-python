{
  "nbformat": 4,
  "nbformat_minor": 0,
  "metadata": {
    "colab": {
      "provenance": []
    },
    "kernelspec": {
      "name": "python3",
      "display_name": "Python 3"
    },
    "language_info": {
      "name": "python"
    }
  },
  "cells": [
    {
      "cell_type": "markdown",
      "source": [
        "#**** Python Basics Questions****\n",
        "**1.What is Python, and why is it popular?**\n",
        "\n",
        "  Python is a programming language. A programming language is like a set of special rules and symboles that you use to give istruction to a computer.  \n",
        "  It is popular because of-:\n",
        "1.ease of learning\n",
        "2.versatile and having lot of libraries\n",
        "3.Having huge active community\n",
        "4.use tp develop frameworks\n",
        "5.widely used in industry by data scientist,analyist and ML engineer   \n",
        "\n",
        "\n",
        "\n",
        "\n"
      ],
      "metadata": {
        "id": "qHGImgDH1aEP"
      }
    },
    {
      "cell_type": "markdown",
      "source": [
        "**2. What is an interpreter in Python?**\n",
        "\n",
        "  Interpreter means translator i.e. simply took the instruction translate to the machine code so that the computer can understand and execute it. Python is a interpreted language means code executed in line by line. By  default C is and interpreter in python.\n",
        "\n",
        "\n"
      ],
      "metadata": {
        "id": "ZN7vAg-aYDlR"
      }
    },
    {
      "cell_type": "markdown",
      "source": [
        "**3.What are pre-defined keywords in Python?**\n",
        "\n",
        "Those words that hold a special meaning and have secific purpose in python programming like if,else,while,for,not,and,True etc.\n"
      ],
      "metadata": {
        "id": "eC9oLqtkZu5O"
      }
    },
    {
      "cell_type": "markdown",
      "source": [
        "**4 Can keywords be used as variable names?**\n",
        "\n",
        "If we assign a value to keyword than its not possible to execute the same job as keyword is do generally and it will through an error because python now treats keyword as variable which store data. That's why keywords should not be used as variables.\n",
        "\n",
        "\n"
      ],
      "metadata": {
        "id": "HzXqMPJRa52l"
      }
    },
    {
      "cell_type": "markdown",
      "source": [
        "**5.What is mutability in Python?**\n",
        "\n",
        "Mutability means change i.e. the object/container whose value or state can be changed after creation, are called as mutable objects or container in python list, dict,set are mutable. It affects how objects are stored and manipulated in memory, impacting performance, memory usage, and concurrency in python programs.\n"
      ],
      "metadata": {
        "id": "l-XOzHWlcVqz"
      }
    },
    {
      "cell_type": "markdown",
      "source": [
        "**6 Why are lists mutable, but tuples are immutable?**\n",
        "\n",
        "List is mutable because it support item assigment and it containes any type of data which can be modified while in tuples are immutable that means the furter assignment or modification in its data after creation is not possible like personal info, aadhar etc.\n",
        "\n"
      ],
      "metadata": {
        "id": "Hy65XR7ddRuz"
      }
    },
    {
      "cell_type": "markdown",
      "source": [
        "**7.What is the difference between “==” and “is” operators in Python?**\n",
        "\n",
        "\"==\" is a comparison operator which compare two values and return a boolean value and \"is\" which is a identity operator means it used to assign the value to a variable."
      ],
      "metadata": {
        "id": "3zaMPHlSgVmP"
      }
    },
    {
      "cell_type": "markdown",
      "source": [
        "**8 What are logical operators in Python?**\n",
        "\n",
        "\n",
        "Operators are special keywords to perform coputation and to make decision. Logical operators are \"and\", \"or\" and \"not\".\n",
        "\n",
        "\n"
      ],
      "metadata": {
        "id": "gmhTjl_thfa4"
      }
    },
    {
      "cell_type": "markdown",
      "source": [
        "**9.What is type casting in Python?**\n",
        "\n",
        "Type casting, also referred to as type conversion, is the process of changing one data type to another in python. Python provides built-in functions for type casting, such as int(), float(), str(), list(), tuple(), dict() etc."
      ],
      "metadata": {
        "id": "Rslqpm-SiYAe"
      }
    },
    {
      "cell_type": "markdown",
      "source": [
        "**10.What is the difference between implicit and explicit type casting?**\n",
        "\n",
        "Python understand the data type like addtion of two int value or addtion of int and float value while where it required to specify the data type whether it is int or str than user have to specify the data type to execute the program else it throug an error. for eg addition of \"2\" and 4 it will through error while int(\"2\")+ 3 executed as 5.\n",
        "\n",
        "\n"
      ],
      "metadata": {
        "id": "3BSmxB9ojmVc"
      }
    },
    {
      "cell_type": "markdown",
      "source": [
        "**11.What is the purpose of conditional statements in Python?**\n",
        "\n",
        "Conditionals in python are used to execute code based on the evalution of one or more conditions. Python supports conditional statments such as if, elif(else if), and else to control the flow of execution. conditionals can be nested to handel multiple conditions and control different branches of execution based on the outcome of logical expressions.\n",
        "\n",
        "\n"
      ],
      "metadata": {
        "id": "yo67Y3pClVM2"
      }
    },
    {
      "cell_type": "markdown",
      "source": [
        "**12.How does the elif statement work?**\n",
        "\n",
        "For executing multiple condition elif(else if) are used. First it goes to if statement and check when the statment is True/falls if it is true execute the block otherwise if it is false than it goes to elif statement and check whether it is true/false if it is true execute the block otherwise if it is false than goes to check all the elif statements same as previous and at last to check else statment and execute the statment.\n"
      ],
      "metadata": {
        "id": "TBF7Xtzn0yc-"
      }
    },
    {
      "cell_type": "markdown",
      "source": [
        "**13.What is the difference between for and while loops?**\n",
        "\n",
        "**while**- In while loop \"while\" is a keyword. It execute repeatedly a block of code until a condition is met.\n",
        "\n",
        "**for**- In for loop \"for\" is a keyword. It iterate over a sequence of elements. Use mostly in strings and list as it has sequential data."
      ],
      "metadata": {
        "id": "e-hlAN0i3NRB"
      }
    },
    {
      "cell_type": "markdown",
      "source": [
        " **14.Describe a scenario where a while loop is more suitable than a for loop.**\n",
        "\n",
        "\n",
        " In \"while\" loop use for a perfect condition to be met, but in For loop it run till all the data ends. so while is more suitable where no of iteration is not known like hit and trail, if condition satisfies the loop ends.\n",
        " like during login if password matched login successful other wise , login denied after 2-3 time entering wrong password.\n",
        "\n",
        " eg-:\n",
        "password_case= input (\"please enter a password\")\n",
        "password= \"priyam@123\"\n",
        "while password_case== password:\n",
        "    print(\"login done\")\n",
        "    break\n",
        "else:\n",
        "    print(\"try after some time\")\n",
        "\n",
        "\n",
        "\n",
        "\n",
        "\n",
        "\n",
        "\n",
        "\n",
        "\n",
        "\n",
        "\n",
        "\n"
      ],
      "metadata": {
        "id": "rzhlGpBI4gx3"
      }
    },
    {
      "cell_type": "markdown",
      "source": [
        "#**Practical Questions**"
      ],
      "metadata": {
        "id": "bkL5tQg31utE"
      }
    },
    {
      "cell_type": "code",
      "source": [
        "1.Write a Python program to print \"Hello, World!\"."
      ],
      "metadata": {
        "id": "NWWFIdWs138K"
      },
      "execution_count": null,
      "outputs": []
    },
    {
      "cell_type": "code",
      "source": [
        "a=\"Hello, World!\"\n",
        "print(a)"
      ],
      "metadata": {
        "colab": {
          "base_uri": "https://localhost:8080/"
        },
        "id": "WOizqSP02nYB",
        "outputId": "8e47d079-4e0f-4743-c7ce-0624b851dcba"
      },
      "execution_count": null,
      "outputs": [
        {
          "output_type": "stream",
          "name": "stdout",
          "text": [
            "Hello, World!\n"
          ]
        }
      ]
    },
    {
      "cell_type": "markdown",
      "source": [
        "2. Write a Python program that displays your name and age."
      ],
      "metadata": {
        "id": "PeceKS4W3Ovc"
      }
    },
    {
      "cell_type": "code",
      "source": [
        "name = 'Priyanka'\n",
        "age = 29\n",
        "a =(f\"My name is {name} and my age is {age}.\")\n",
        "print(a)"
      ],
      "metadata": {
        "id": "nmDv4Icn3Wkq",
        "colab": {
          "base_uri": "https://localhost:8080/"
        },
        "outputId": "8a5b1652-bffb-4112-e4f4-f67924512bbf"
      },
      "execution_count": null,
      "outputs": [
        {
          "output_type": "stream",
          "name": "stdout",
          "text": [
            "My name is Priyanka and my age is 29.\n"
          ]
        }
      ]
    },
    {
      "cell_type": "markdown",
      "source": [
        "3. Write code to print all the pre-defined keywords in Python using the keyword library.\n"
      ],
      "metadata": {
        "id": "0XDiisoHXVWO"
      }
    },
    {
      "cell_type": "code",
      "source": [
        "help('keywords')"
      ],
      "metadata": {
        "id": "8d_Hv4J03Msz",
        "colab": {
          "base_uri": "https://localhost:8080/"
        },
        "outputId": "39463bfb-f847-45c0-b8ea-9d32ecde1321"
      },
      "execution_count": null,
      "outputs": [
        {
          "output_type": "stream",
          "name": "stdout",
          "text": [
            "\n",
            "Here is a list of the Python keywords.  Enter any keyword to get more help.\n",
            "\n",
            "False               class               from                or\n",
            "None                continue            global              pass\n",
            "True                def                 if                  raise\n",
            "and                 del                 import              return\n",
            "as                  elif                in                  try\n",
            "assert              else                is                  while\n",
            "async               except              lambda              with\n",
            "await               finally             nonlocal            yield\n",
            "break               for                 not                 \n",
            "\n"
          ]
        }
      ]
    },
    {
      "cell_type": "markdown",
      "source": [
        "4.Write a program that checks if a given word is a Python keyword.\n"
      ],
      "metadata": {
        "id": "BN9J00HEZIHx"
      }
    },
    {
      "cell_type": "code",
      "source": [
        "import keyword\n",
        "search_word = input(\"Enter a word: \")\n",
        "if keyword .iskeyword(search_word):\n",
        "     print(f\"word {search_word} is a Python keyword.\")\n",
        "else:\n",
        "     print(f\"word {search_word} is not a Python keyword.\")\n"
      ],
      "metadata": {
        "id": "xiERckRpXgio",
        "colab": {
          "base_uri": "https://localhost:8080/"
        },
        "outputId": "1b086a41-9317-4c03-e209-597486e2b297"
      },
      "execution_count": null,
      "outputs": [
        {
          "output_type": "stream",
          "name": "stdout",
          "text": [
            "Enter a word: elif\n",
            "word elif is a Python keyword.\n"
          ]
        }
      ]
    },
    {
      "cell_type": "markdown",
      "source": [
        "**5.Create a list and tuple in Python, and demonstrate how attempting to change an element works differently\n",
        "for each.**"
      ],
      "metadata": {
        "id": "kRTBFPCD--dq"
      }
    },
    {
      "cell_type": "code",
      "source": [
        "# eg for list, modification in element possible\n",
        "l= [\"suma\",1,22,4.3,7+8j,\"suma\"]\n",
        "l[3]= 100\n",
        "l"
      ],
      "metadata": {
        "colab": {
          "base_uri": "https://localhost:8080/"
        },
        "id": "U2inkp6z-yDm",
        "outputId": "0c79debb-a6d1-41d1-cb4a-e8c3c26dce6e"
      },
      "execution_count": null,
      "outputs": [
        {
          "output_type": "execute_result",
          "data": {
            "text/plain": [
              "['suma', 1, 22, 100, (7+8j), 'suma']"
            ]
          },
          "metadata": {},
          "execution_count": 5
        }
      ]
    },
    {
      "cell_type": "code",
      "source": [
        "# eg for tuple, modification in element not possible\n",
        "t= (\"suma\",1,22,4.3,7+8j,\"suma\")\n",
        "t[2]=25\n",
        "t"
      ],
      "metadata": {
        "colab": {
          "base_uri": "https://localhost:8080/",
          "height": 201
        },
        "id": "MR8HI5QT_7kr",
        "outputId": "36b6f209-aade-46db-9407-9421753033e5"
      },
      "execution_count": null,
      "outputs": [
        {
          "output_type": "error",
          "ename": "TypeError",
          "evalue": "'tuple' object does not support item assignment",
          "traceback": [
            "\u001b[0;31m---------------------------------------------------------------------------\u001b[0m",
            "\u001b[0;31mTypeError\u001b[0m                                 Traceback (most recent call last)",
            "\u001b[0;32m<ipython-input-4-ac4c8c6f1595>\u001b[0m in \u001b[0;36m<cell line: 0>\u001b[0;34m()\u001b[0m\n\u001b[1;32m      1\u001b[0m \u001b[0;31m# eg for tuple\u001b[0m\u001b[0;34m\u001b[0m\u001b[0;34m\u001b[0m\u001b[0m\n\u001b[1;32m      2\u001b[0m \u001b[0mt\u001b[0m\u001b[0;34m=\u001b[0m \u001b[0;34m(\u001b[0m\u001b[0;34m\"suma\"\u001b[0m\u001b[0;34m,\u001b[0m\u001b[0;36m1\u001b[0m\u001b[0;34m,\u001b[0m\u001b[0;36m22\u001b[0m\u001b[0;34m,\u001b[0m\u001b[0;36m4.3\u001b[0m\u001b[0;34m,\u001b[0m\u001b[0;36m7\u001b[0m\u001b[0;34m+\u001b[0m\u001b[0;36m8j\u001b[0m\u001b[0;34m,\u001b[0m\u001b[0;34m\"suma\"\u001b[0m\u001b[0;34m)\u001b[0m\u001b[0;34m\u001b[0m\u001b[0;34m\u001b[0m\u001b[0m\n\u001b[0;32m----> 3\u001b[0;31m \u001b[0mt\u001b[0m\u001b[0;34m[\u001b[0m\u001b[0;36m2\u001b[0m\u001b[0;34m]\u001b[0m\u001b[0;34m=\u001b[0m\u001b[0;36m25\u001b[0m\u001b[0;34m\u001b[0m\u001b[0;34m\u001b[0m\u001b[0m\n\u001b[0m\u001b[1;32m      4\u001b[0m \u001b[0mt\u001b[0m\u001b[0;34m\u001b[0m\u001b[0;34m\u001b[0m\u001b[0m\n",
            "\u001b[0;31mTypeError\u001b[0m: 'tuple' object does not support item assignment"
          ]
        }
      ]
    },
    {
      "cell_type": "markdown",
      "source": [
        "**6.Write a function to demonstrate the behavior of mutable and immutable arguments.**\n",
        "\n",
        "As list,set,dic is mutable function and string,tuple is immutable showing below with coad-:\n"
      ],
      "metadata": {
        "id": "Zd0lZEbRAWi_"
      }
    },
    {
      "cell_type": "code",
      "source": [
        "l= [23,56,2,1,6+7j,\"priya\",\"suman\"]\n",
        "l[-3]=\"seema\"\n",
        "l"
      ],
      "metadata": {
        "colab": {
          "base_uri": "https://localhost:8080/"
        },
        "id": "-v8h85wlP2_p",
        "outputId": "dab104e7-1fc1-4654-eb99-e6121b47e0c7"
      },
      "execution_count": null,
      "outputs": [
        {
          "output_type": "execute_result",
          "data": {
            "text/plain": [
              "[23, 56, 2, 1, 'seema', 'priya', 'suman']"
            ]
          },
          "metadata": {},
          "execution_count": 3
        }
      ]
    },
    {
      "cell_type": "code",
      "source": [
        "t=(23,56,2,1,6+7j,\"priya\",\"suman\")\n",
        "t[-3]=\"seema\"\n",
        "t"
      ],
      "metadata": {
        "colab": {
          "base_uri": "https://localhost:8080/",
          "height": 183
        },
        "id": "unKXktedQJP-",
        "outputId": "c72f4c88-18cc-4ca7-ea67-9002175793e4"
      },
      "execution_count": null,
      "outputs": [
        {
          "output_type": "error",
          "ename": "TypeError",
          "evalue": "'tuple' object does not support item assignment",
          "traceback": [
            "\u001b[0;31m---------------------------------------------------------------------------\u001b[0m",
            "\u001b[0;31mTypeError\u001b[0m                                 Traceback (most recent call last)",
            "\u001b[0;32m<ipython-input-4-c5d73f9c9f69>\u001b[0m in \u001b[0;36m<cell line: 0>\u001b[0;34m()\u001b[0m\n\u001b[1;32m      1\u001b[0m \u001b[0mt\u001b[0m\u001b[0;34m=\u001b[0m\u001b[0;34m(\u001b[0m\u001b[0;36m23\u001b[0m\u001b[0;34m,\u001b[0m\u001b[0;36m56\u001b[0m\u001b[0;34m,\u001b[0m\u001b[0;36m2\u001b[0m\u001b[0;34m,\u001b[0m\u001b[0;36m1\u001b[0m\u001b[0;34m,\u001b[0m\u001b[0;36m6\u001b[0m\u001b[0;34m+\u001b[0m\u001b[0;36m7j\u001b[0m\u001b[0;34m,\u001b[0m\u001b[0;34m\"priya\"\u001b[0m\u001b[0;34m,\u001b[0m\u001b[0;34m\"suman\"\u001b[0m\u001b[0;34m)\u001b[0m\u001b[0;34m\u001b[0m\u001b[0;34m\u001b[0m\u001b[0m\n\u001b[0;32m----> 2\u001b[0;31m \u001b[0mt\u001b[0m\u001b[0;34m[\u001b[0m\u001b[0;34m-\u001b[0m\u001b[0;36m3\u001b[0m\u001b[0;34m]\u001b[0m\u001b[0;34m=\u001b[0m\u001b[0;34m\"seema\"\u001b[0m\u001b[0;34m\u001b[0m\u001b[0;34m\u001b[0m\u001b[0m\n\u001b[0m\u001b[1;32m      3\u001b[0m \u001b[0mt\u001b[0m\u001b[0;34m\u001b[0m\u001b[0;34m\u001b[0m\u001b[0m\n",
            "\u001b[0;31mTypeError\u001b[0m: 'tuple' object does not support item assignment"
          ]
        }
      ]
    },
    {
      "cell_type": "markdown",
      "source": [
        "**7. Write a program that performs basic arithmetic operations on two user-input numbers.**\n",
        "\n"
      ],
      "metadata": {
        "id": "Mks5UaL1TMe6"
      }
    },
    {
      "cell_type": "code",
      "source": [
        "a= int(input(\"enter first number \"))\n",
        "b=int(input(\"enter second number \"))\n",
        "sum= a+b\n",
        "print(sum)"
      ],
      "metadata": {
        "colab": {
          "base_uri": "https://localhost:8080/"
        },
        "id": "aU39ZBmPThVr",
        "outputId": "fb250f75-b4d2-4fb3-ed7d-88f29e7bb02c"
      },
      "execution_count": null,
      "outputs": [
        {
          "output_type": "stream",
          "name": "stdout",
          "text": [
            "enter first number 23\n",
            "enter second number 34\n",
            "57\n"
          ]
        }
      ]
    },
    {
      "cell_type": "markdown",
      "source": [
        "**8.Write a program to demonstrate the use of logical operators.**\n",
        "\n",
        "\n"
      ],
      "metadata": {
        "id": "LEe2fMnwXN18"
      }
    },
    {
      "cell_type": "code",
      "source": [
        "True and False"
      ],
      "metadata": {
        "colab": {
          "base_uri": "https://localhost:8080/"
        },
        "id": "wvm8ZsV6YdYl",
        "outputId": "a2aa5eef-db50-4f5a-fcd4-a4483c505505"
      },
      "execution_count": null,
      "outputs": [
        {
          "output_type": "execute_result",
          "data": {
            "text/plain": [
              "False"
            ]
          },
          "metadata": {},
          "execution_count": 21
        }
      ]
    },
    {
      "cell_type": "code",
      "source": [
        "True and True"
      ],
      "metadata": {
        "colab": {
          "base_uri": "https://localhost:8080/"
        },
        "id": "jhzgKDNdYibo",
        "outputId": "740dbca9-57aa-4def-88c1-36e001285a4e"
      },
      "execution_count": null,
      "outputs": [
        {
          "output_type": "execute_result",
          "data": {
            "text/plain": [
              "True"
            ]
          },
          "metadata": {},
          "execution_count": 22
        }
      ]
    },
    {
      "cell_type": "code",
      "source": [
        "False or True"
      ],
      "metadata": {
        "colab": {
          "base_uri": "https://localhost:8080/"
        },
        "id": "qzAttIPcYnEs",
        "outputId": "ea975cfe-77ca-470a-c909-7a0e47fe6429"
      },
      "execution_count": null,
      "outputs": [
        {
          "output_type": "execute_result",
          "data": {
            "text/plain": [
              "True"
            ]
          },
          "metadata": {},
          "execution_count": 23
        }
      ]
    },
    {
      "cell_type": "code",
      "source": [
        "not True"
      ],
      "metadata": {
        "colab": {
          "base_uri": "https://localhost:8080/"
        },
        "id": "Y3ze5nK3Zzno",
        "outputId": "c7579507-0d08-46f4-d9c9-864a3e8a4c96"
      },
      "execution_count": null,
      "outputs": [
        {
          "output_type": "execute_result",
          "data": {
            "text/plain": [
              "False"
            ]
          },
          "metadata": {},
          "execution_count": 24
        }
      ]
    },
    {
      "cell_type": "markdown",
      "source": [
        "**9. Write a Python program to convert user input from string to integer, float, and boolean types.**"
      ],
      "metadata": {
        "id": "1x3SKeZYZ4yu"
      }
    },
    {
      "cell_type": "code",
      "source": [
        "a=input(\"enter a no \")\n",
        "type(a)"
      ],
      "metadata": {
        "colab": {
          "base_uri": "https://localhost:8080/"
        },
        "id": "_y3LIY_8aB3p",
        "outputId": "fe99f106-0d45-4baa-b8b6-5fe6cb34a0b2"
      },
      "execution_count": null,
      "outputs": [
        {
          "name": "stdout",
          "output_type": "stream",
          "text": [
            "enter a no 45\n"
          ]
        },
        {
          "output_type": "execute_result",
          "data": {
            "text/plain": [
              "str"
            ]
          },
          "metadata": {},
          "execution_count": 39
        }
      ]
    },
    {
      "cell_type": "code",
      "source": [
        "type(int(a))\n",
        "a"
      ],
      "metadata": {
        "colab": {
          "base_uri": "https://localhost:8080/",
          "height": 36
        },
        "id": "EcaTUusBZ2-C",
        "outputId": "91ee124b-39ec-4081-f3e1-554632401fef"
      },
      "execution_count": null,
      "outputs": [
        {
          "output_type": "execute_result",
          "data": {
            "text/plain": [
              "'45'"
            ],
            "application/vnd.google.colaboratory.intrinsic+json": {
              "type": "string"
            }
          },
          "metadata": {},
          "execution_count": 42
        }
      ]
    },
    {
      "cell_type": "code",
      "source": [
        "b=input(\"enter a number \")\n",
        "type (b)\n"
      ],
      "metadata": {
        "colab": {
          "base_uri": "https://localhost:8080/"
        },
        "id": "ZbBhFc83bSiH",
        "outputId": "7856c514-b2c4-4b01-c778-ebd038e8c915"
      },
      "execution_count": null,
      "outputs": [
        {
          "name": "stdout",
          "output_type": "stream",
          "text": [
            "enter a number 6.7\n"
          ]
        },
        {
          "output_type": "execute_result",
          "data": {
            "text/plain": [
              "str"
            ]
          },
          "metadata": {},
          "execution_count": 40
        }
      ]
    },
    {
      "cell_type": "code",
      "source": [
        "type(float(b))\n",
        "b"
      ],
      "metadata": {
        "colab": {
          "base_uri": "https://localhost:8080/",
          "height": 36
        },
        "id": "HuYMOuhZbeFR",
        "outputId": "710950e5-6145-44a4-cfae-a5092e6649f0"
      },
      "execution_count": null,
      "outputs": [
        {
          "output_type": "execute_result",
          "data": {
            "text/plain": [
              "'6.7'"
            ],
            "application/vnd.google.colaboratory.intrinsic+json": {
              "type": "string"
            }
          },
          "metadata": {},
          "execution_count": 43
        }
      ]
    },
    {
      "cell_type": "code",
      "source": [
        "c= input(\"enter a number \")\n",
        "type(c)"
      ],
      "metadata": {
        "colab": {
          "base_uri": "https://localhost:8080/"
        },
        "id": "FcVUmQVWbxUb",
        "outputId": "bdcd3dd3-ada5-4747-9415-e21c1643deef"
      },
      "execution_count": null,
      "outputs": [
        {
          "name": "stdout",
          "output_type": "stream",
          "text": [
            "enter a number 56\n"
          ]
        },
        {
          "output_type": "execute_result",
          "data": {
            "text/plain": [
              "str"
            ]
          },
          "metadata": {},
          "execution_count": 45
        }
      ]
    },
    {
      "cell_type": "code",
      "source": [
        "bool(c)"
      ],
      "metadata": {
        "colab": {
          "base_uri": "https://localhost:8080/"
        },
        "id": "EILkXkxDc8om",
        "outputId": "0e4551fd-9938-429c-f611-9e129c80f720"
      },
      "execution_count": null,
      "outputs": [
        {
          "output_type": "execute_result",
          "data": {
            "text/plain": [
              "True"
            ]
          },
          "metadata": {},
          "execution_count": 48
        }
      ]
    },
    {
      "cell_type": "markdown",
      "source": [
        "**10.Write code to demonstrate type casting with list elements.**"
      ],
      "metadata": {
        "id": "cKe2boGTdTyB"
      }
    },
    {
      "cell_type": "code",
      "source": [
        "l=[\"fruits\",\"veggies\",\"nuts\",21,-23,32,4+6j,True]\n",
        "type(l)"
      ],
      "metadata": {
        "id": "W1mwuaJZn0uX",
        "colab": {
          "base_uri": "https://localhost:8080/"
        },
        "outputId": "f94038bc-ff9c-46e7-a677-2eb0dcd09635"
      },
      "execution_count": 66,
      "outputs": [
        {
          "output_type": "execute_result",
          "data": {
            "text/plain": [
              "list"
            ]
          },
          "metadata": {},
          "execution_count": 66
        }
      ]
    },
    {
      "cell_type": "code",
      "source": [
        "type(l[3])"
      ],
      "metadata": {
        "colab": {
          "base_uri": "https://localhost:8080/"
        },
        "id": "b-Y5QorOzGHw",
        "outputId": "3c68c48f-71cd-4713-ce6d-c6cf96572924"
      },
      "execution_count": 67,
      "outputs": [
        {
          "output_type": "execute_result",
          "data": {
            "text/plain": [
              "int"
            ]
          },
          "metadata": {},
          "execution_count": 67
        }
      ]
    },
    {
      "cell_type": "code",
      "source": [
        "str(l[3])"
      ],
      "metadata": {
        "colab": {
          "base_uri": "https://localhost:8080/",
          "height": 35
        },
        "id": "Z2soKBoIze1E",
        "outputId": "17e7bca4-633a-4f25-e8c3-9b0a8adea1f8"
      },
      "execution_count": 69,
      "outputs": [
        {
          "output_type": "execute_result",
          "data": {
            "text/plain": [
              "'21'"
            ],
            "application/vnd.google.colaboratory.intrinsic+json": {
              "type": "string"
            }
          },
          "metadata": {},
          "execution_count": 69
        }
      ]
    },
    {
      "cell_type": "code",
      "source": [
        "type(str(l[3]))"
      ],
      "metadata": {
        "colab": {
          "base_uri": "https://localhost:8080/"
        },
        "id": "MfX8OvZgzrFp",
        "outputId": "b9bde3de-5fdf-4358-c623-c514db34cf17"
      },
      "execution_count": 65,
      "outputs": [
        {
          "output_type": "execute_result",
          "data": {
            "text/plain": [
              "str"
            ]
          },
          "metadata": {},
          "execution_count": 65
        }
      ]
    },
    {
      "cell_type": "markdown",
      "source": [
        "**11.Write a program that checks if a number is positive, negative, or zero.**\n",
        "\n"
      ],
      "metadata": {
        "id": "6BdRoz4mohw3"
      }
    },
    {
      "cell_type": "code",
      "source": [
        "a= int(input(\"enter a number \"))\n",
        "if a>0:\n",
        "  print(\"number is positive\")\n",
        "elif a<0:\n",
        "  print(\"number is negative\")\n",
        "else:\n",
        "  print(\"number is zero\")"
      ],
      "metadata": {
        "colab": {
          "base_uri": "https://localhost:8080/"
        },
        "id": "uIcRZZDVoq2i",
        "outputId": "218602a2-3b74-452e-a7e5-048f125fc059"
      },
      "execution_count": null,
      "outputs": [
        {
          "output_type": "stream",
          "name": "stdout",
          "text": [
            "enter a number -3\n",
            "number is negative\n"
          ]
        }
      ]
    },
    {
      "cell_type": "markdown",
      "source": [
        "**12. Write a for loop to print numbers from 1 to 10.**"
      ],
      "metadata": {
        "id": "kQjGhcSIpX-U"
      }
    },
    {
      "cell_type": "code",
      "source": [
        "a=list(range(1,11))\n",
        "for i in a:\n",
        "  print(i)"
      ],
      "metadata": {
        "colab": {
          "base_uri": "https://localhost:8080/"
        },
        "id": "zJ0KSmwdphS2",
        "outputId": "7401cdcb-07b5-4e2b-bd47-b201150f3df7"
      },
      "execution_count": null,
      "outputs": [
        {
          "output_type": "stream",
          "name": "stdout",
          "text": [
            "1\n",
            "2\n",
            "3\n",
            "4\n",
            "5\n",
            "6\n",
            "7\n",
            "8\n",
            "9\n",
            "10\n"
          ]
        }
      ]
    },
    {
      "cell_type": "markdown",
      "source": [
        "**13.Write a Python program to find the sum of all even numbers between 1 and 50.**"
      ],
      "metadata": {
        "id": "UVuD2Ck3p1KL"
      }
    },
    {
      "cell_type": "code",
      "source": [
        "a=list(range(1,51))\n",
        "sum=0\n",
        "for i in a:\n",
        "  if i%2==0:\n",
        "    sum=sum+i\n",
        "print(sum)"
      ],
      "metadata": {
        "colab": {
          "base_uri": "https://localhost:8080/"
        },
        "id": "vAj1IfiIqAto",
        "outputId": "397c6a61-b067-492c-cba5-bd0c6fbff874"
      },
      "execution_count": null,
      "outputs": [
        {
          "output_type": "stream",
          "name": "stdout",
          "text": [
            "650\n"
          ]
        }
      ]
    },
    {
      "cell_type": "markdown",
      "source": [
        "**14.Write a program to reverse a string using a while loop.**\n"
      ],
      "metadata": {
        "id": "zjg8WkEkrEv6"
      }
    },
    {
      "cell_type": "code",
      "source": [
        "s= \"pwskills\"\n",
        "while len(s)>0:\n",
        "  print(s[-1])\n",
        "  s=s[:-1]"
      ],
      "metadata": {
        "colab": {
          "base_uri": "https://localhost:8080/"
        },
        "id": "ZNVrHfoWrLR7",
        "outputId": "c3ef1156-a66a-4d66-e4cf-85f7172126a7"
      },
      "execution_count": null,
      "outputs": [
        {
          "output_type": "stream",
          "name": "stdout",
          "text": [
            "s\n",
            "l\n",
            "l\n",
            "i\n",
            "k\n",
            "s\n",
            "w\n",
            "p\n"
          ]
        }
      ]
    },
    {
      "cell_type": "markdown",
      "source": [
        "**15.Write a Python program to calculate the factorial of a number provided by the user using a while loop.**"
      ],
      "metadata": {
        "id": "qWtQ1uvRtHYK"
      }
    },
    {
      "cell_type": "code",
      "source": [
        "n= int(input(\"enter a number \"))\n",
        "factorial = 1\n",
        "while n > 1:\n",
        "    factorial = factorial*n\n",
        "    n = n-1\n",
        "\n",
        "print(\"Factorial:\", factorial)\n"
      ],
      "metadata": {
        "colab": {
          "base_uri": "https://localhost:8080/"
        },
        "id": "l47FXyvItOXK",
        "outputId": "f216de52-81b0-4907-900b-6828c6af0893"
      },
      "execution_count": 60,
      "outputs": [
        {
          "output_type": "stream",
          "name": "stdout",
          "text": [
            "enter a number 7\n",
            "Factorial: 5040\n"
          ]
        }
      ]
    },
    {
      "cell_type": "code",
      "source": [
        "\n"
      ],
      "metadata": {
        "id": "Tc9M9WbUpMp_"
      },
      "execution_count": 59,
      "outputs": []
    },
    {
      "cell_type": "code",
      "source": [],
      "metadata": {
        "id": "a0fq1TJXu4PZ"
      },
      "execution_count": null,
      "outputs": []
    }
  ]
}